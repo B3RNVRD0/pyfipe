{
 "cells": [
  {
   "cell_type": "markdown",
   "metadata": {},
   "source": [
    "# Aplicando em uma Tabela"
   ]
  },
  {
   "cell_type": "code",
   "execution_count": null,
   "metadata": {},
   "outputs": [],
   "source": [
    "#| hide\n",
    "from nbdev.showdoc import *"
   ]
  },
  {
   "cell_type": "code",
   "execution_count": null,
   "metadata": {},
   "outputs": [],
   "source": [
    "import pandas as pd"
   ]
  },
  {
   "cell_type": "code",
   "execution_count": null,
   "metadata": {},
   "outputs": [
    {
     "data": {
      "text/html": [
       "<div>\n",
       "<style scoped>\n",
       "    .dataframe tbody tr th:only-of-type {\n",
       "        vertical-align: middle;\n",
       "    }\n",
       "\n",
       "    .dataframe tbody tr th {\n",
       "        vertical-align: top;\n",
       "    }\n",
       "\n",
       "    .dataframe thead th {\n",
       "        text-align: right;\n",
       "    }\n",
       "</style>\n",
       "<table border=\"1\" class=\"dataframe\">\n",
       "  <thead>\n",
       "    <tr style=\"text-align: right;\">\n",
       "      <th></th>\n",
       "      <th>mes</th>\n",
       "      <th>tipo_veiculo</th>\n",
       "      <th>marca</th>\n",
       "      <th>modelo</th>\n",
       "      <th>ano_modelo</th>\n",
       "      <th>combustivel</th>\n",
       "    </tr>\n",
       "  </thead>\n",
       "  <tbody>\n",
       "    <tr>\n",
       "      <th>0</th>\n",
       "      <td>agosto/2022</td>\n",
       "      <td>carro</td>\n",
       "      <td>VW - VolksWagen</td>\n",
       "      <td>T-Cross Sense 1.0 TSI Flex 5p Aut.</td>\n",
       "      <td>2021</td>\n",
       "      <td>Gasolina</td>\n",
       "    </tr>\n",
       "    <tr>\n",
       "      <th>1</th>\n",
       "      <td>agosto/2022</td>\n",
       "      <td>carro</td>\n",
       "      <td>Honda</td>\n",
       "      <td>HR-V EX 1.8 Flexone 16V 5p Aut.</td>\n",
       "      <td>2021</td>\n",
       "      <td>Gasolina</td>\n",
       "    </tr>\n",
       "  </tbody>\n",
       "</table>\n",
       "</div>"
      ],
      "text/plain": [
       "           mes tipo_veiculo            marca  \\\n",
       "0  agosto/2022        carro  VW - VolksWagen   \n",
       "1  agosto/2022        carro            Honda   \n",
       "\n",
       "                               modelo  ano_modelo combustivel  \n",
       "0  T-Cross Sense 1.0 TSI Flex 5p Aut.        2021    Gasolina  \n",
       "1     HR-V EX 1.8 Flexone 16V 5p Aut.        2021    Gasolina  "
      ]
     },
     "execution_count": null,
     "metadata": {},
     "output_type": "execute_result"
    }
   ],
   "source": [
    "df = pd.DataFrame([\n",
    "    {'mes': 'agosto/2022', 'tipo_veiculo': 'carro', 'marca': 'VW - VolksWagen', 'modelo': 'T-Cross Sense 1.0 TSI Flex 5p Aut.', 'ano_modelo': 2021, 'combustivel': 'Gasolina'},\n",
    "    {'mes': 'agosto/2022', 'tipo_veiculo': 'carro', 'marca': 'Honda', 'modelo': 'HR-V EX 1.8 Flexone 16V 5p Aut.', 'ano_modelo': 2021, 'combustivel': 'Gasolina'}\n",
    "])\n",
    "df"
   ]
  },
  {
   "cell_type": "markdown",
   "metadata": {},
   "source": [
    "## Utilizando o método apply"
   ]
  },
  {
   "cell_type": "code",
   "execution_count": null,
   "metadata": {},
   "outputs": [],
   "source": [
    "from pyfipe.core import ConsultaFipe\n",
    "\n",
    "def pega_preco(row):\n",
    "    try:\n",
    "        fipe = ConsultaFipe(mes=row['mes'],\n",
    "                            tipo_veiculo=row['tipo_veiculo'],\n",
    "                            marca=row['marca'],\n",
    "                            modelo=row['modelo'],\n",
    "                            ano_modelo=row['ano_modelo'],\n",
    "                            combustivel=row['combustivel'])\n",
    "        return fipe.preco()['Valor'].values[0]\n",
    "        \n",
    "    except:\n",
    "        return \"Erro na consulta\""
   ]
  },
  {
   "cell_type": "code",
   "execution_count": null,
   "metadata": {},
   "outputs": [
    {
     "data": {
      "text/html": [
       "<div>\n",
       "<style scoped>\n",
       "    .dataframe tbody tr th:only-of-type {\n",
       "        vertical-align: middle;\n",
       "    }\n",
       "\n",
       "    .dataframe tbody tr th {\n",
       "        vertical-align: top;\n",
       "    }\n",
       "\n",
       "    .dataframe thead th {\n",
       "        text-align: right;\n",
       "    }\n",
       "</style>\n",
       "<table border=\"1\" class=\"dataframe\">\n",
       "  <thead>\n",
       "    <tr style=\"text-align: right;\">\n",
       "      <th></th>\n",
       "      <th>mes</th>\n",
       "      <th>tipo_veiculo</th>\n",
       "      <th>marca</th>\n",
       "      <th>modelo</th>\n",
       "      <th>ano_modelo</th>\n",
       "      <th>combustivel</th>\n",
       "      <th>preco_fipe</th>\n",
       "    </tr>\n",
       "  </thead>\n",
       "  <tbody>\n",
       "    <tr>\n",
       "      <th>0</th>\n",
       "      <td>agosto/2022</td>\n",
       "      <td>carro</td>\n",
       "      <td>VW - VolksWagen</td>\n",
       "      <td>T-Cross Sense 1.0 TSI Flex 5p Aut.</td>\n",
       "      <td>2021</td>\n",
       "      <td>Gasolina</td>\n",
       "      <td>R$ 101.120,00</td>\n",
       "    </tr>\n",
       "    <tr>\n",
       "      <th>1</th>\n",
       "      <td>agosto/2022</td>\n",
       "      <td>carro</td>\n",
       "      <td>Honda</td>\n",
       "      <td>HR-V EX 1.8 Flexone 16V 5p Aut.</td>\n",
       "      <td>2021</td>\n",
       "      <td>Gasolina</td>\n",
       "      <td>R$ 126.426,00</td>\n",
       "    </tr>\n",
       "  </tbody>\n",
       "</table>\n",
       "</div>"
      ],
      "text/plain": [
       "           mes tipo_veiculo            marca  \\\n",
       "0  agosto/2022        carro  VW - VolksWagen   \n",
       "1  agosto/2022        carro            Honda   \n",
       "\n",
       "                               modelo  ano_modelo combustivel     preco_fipe  \n",
       "0  T-Cross Sense 1.0 TSI Flex 5p Aut.        2021    Gasolina  R$ 101.120,00  \n",
       "1     HR-V EX 1.8 Flexone 16V 5p Aut.        2021    Gasolina  R$ 126.426,00  "
      ]
     },
     "execution_count": null,
     "metadata": {},
     "output_type": "execute_result"
    }
   ],
   "source": [
    "df['preco_fipe'] = df.apply(pega_preco, axis=1)\n",
    "df"
   ]
  },
  {
   "cell_type": "markdown",
   "metadata": {},
   "source": [
    "## Iterando sobre cada row do DataFrame"
   ]
  },
  {
   "cell_type": "code",
   "execution_count": null,
   "metadata": {},
   "outputs": [],
   "source": [
    "import time\n",
    "\n",
    "# create 'preco_fipe2' column filled with -99\n",
    "df['preco_fipe2'] = -99\n",
    "\n",
    "# loop through each row of the dataframe\n",
    "for index, row in df.iterrows():\n",
    "    # apply the pega_preco function to each row\n",
    "    df.loc[index, 'preco_fipe2'] = pega_preco(row)\n",
    "    # wait 2 seconds\n",
    "    time.sleep(1)"
   ]
  },
  {
   "cell_type": "code",
   "execution_count": null,
   "metadata": {},
   "outputs": [
    {
     "data": {
      "text/html": [
       "<div>\n",
       "<style scoped>\n",
       "    .dataframe tbody tr th:only-of-type {\n",
       "        vertical-align: middle;\n",
       "    }\n",
       "\n",
       "    .dataframe tbody tr th {\n",
       "        vertical-align: top;\n",
       "    }\n",
       "\n",
       "    .dataframe thead th {\n",
       "        text-align: right;\n",
       "    }\n",
       "</style>\n",
       "<table border=\"1\" class=\"dataframe\">\n",
       "  <thead>\n",
       "    <tr style=\"text-align: right;\">\n",
       "      <th></th>\n",
       "      <th>mes</th>\n",
       "      <th>tipo_veiculo</th>\n",
       "      <th>marca</th>\n",
       "      <th>modelo</th>\n",
       "      <th>ano_modelo</th>\n",
       "      <th>combustivel</th>\n",
       "      <th>preco_fipe</th>\n",
       "      <th>preco_fipe2</th>\n",
       "    </tr>\n",
       "  </thead>\n",
       "  <tbody>\n",
       "    <tr>\n",
       "      <th>0</th>\n",
       "      <td>agosto/2022</td>\n",
       "      <td>carro</td>\n",
       "      <td>VW - VolksWagen</td>\n",
       "      <td>T-Cross Sense 1.0 TSI Flex 5p Aut.</td>\n",
       "      <td>2021</td>\n",
       "      <td>Gasolina</td>\n",
       "      <td>R$ 101.120,00</td>\n",
       "      <td>R$ 101.120,00</td>\n",
       "    </tr>\n",
       "    <tr>\n",
       "      <th>1</th>\n",
       "      <td>agosto/2022</td>\n",
       "      <td>carro</td>\n",
       "      <td>Honda</td>\n",
       "      <td>HR-V EX 1.8 Flexone 16V 5p Aut.</td>\n",
       "      <td>2021</td>\n",
       "      <td>Gasolina</td>\n",
       "      <td>R$ 126.426,00</td>\n",
       "      <td>R$ 126.426,00</td>\n",
       "    </tr>\n",
       "  </tbody>\n",
       "</table>\n",
       "</div>"
      ],
      "text/plain": [
       "           mes tipo_veiculo            marca  \\\n",
       "0  agosto/2022        carro  VW - VolksWagen   \n",
       "1  agosto/2022        carro            Honda   \n",
       "\n",
       "                               modelo  ano_modelo combustivel     preco_fipe  \\\n",
       "0  T-Cross Sense 1.0 TSI Flex 5p Aut.        2021    Gasolina  R$ 101.120,00   \n",
       "1     HR-V EX 1.8 Flexone 16V 5p Aut.        2021    Gasolina  R$ 126.426,00   \n",
       "\n",
       "     preco_fipe2  \n",
       "0  R$ 101.120,00  \n",
       "1  R$ 126.426,00  "
      ]
     },
     "execution_count": null,
     "metadata": {},
     "output_type": "execute_result"
    }
   ],
   "source": [
    "df"
   ]
  },
  {
   "cell_type": "code",
   "execution_count": null,
   "metadata": {},
   "outputs": [],
   "source": []
  }
 ],
 "metadata": {
  "kernelspec": {
   "display_name": "Python 3.8.13 ('pyfipe')",
   "language": "python",
   "name": "python3"
  }
 },
 "nbformat": 4,
 "nbformat_minor": 2
}
