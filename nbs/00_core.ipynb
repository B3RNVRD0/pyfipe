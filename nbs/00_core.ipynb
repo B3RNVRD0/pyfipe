{
 "cells": [
  {
   "cell_type": "markdown",
   "metadata": {},
   "source": [
    "# Core\n",
    "\n",
    "> Core module, with the main `Class` `ConsultaFipe` implementation."
   ]
  },
  {
   "cell_type": "code",
   "execution_count": null,
   "metadata": {},
   "outputs": [],
   "source": [
    "#| default_exp core"
   ]
  },
  {
   "cell_type": "code",
   "execution_count": null,
   "metadata": {},
   "outputs": [],
   "source": [
    "#| hide\n",
    "from nbdev.showdoc import *"
   ]
  },
  {
   "cell_type": "code",
   "execution_count": null,
   "metadata": {},
   "outputs": [
    {
     "data": {
      "text/plain": [
       "Path('/Users/joaonogueira/Desktop/Github/fipy/nbs/..')"
      ]
     },
     "execution_count": null,
     "metadata": {},
     "output_type": "execute_result"
    }
   ],
   "source": [
    "\n",
    "\n"
   ]
  },
  {
   "cell_type": "code",
   "execution_count": null,
   "metadata": {},
   "outputs": [],
   "source": [
    "#| export\n",
    "import os\n",
    "import json\n",
    "import requests\n",
    "import pandas as pd\n",
    "\n",
    "class ConsultaFipe:\n",
    "    def __init__(self, mes: str = 'agosto/2022', codigo_tipo_veiculo: str = '1'):\n",
    "        self.mes = mes\n",
    "        self.codigo_tipo_veiculo = codigo_tipo_veiculo\n",
    "        self._base_url = \"http://veiculos.fipe.org.br/api/veiculos/\"\n",
    "        os.makedirs('datasets', exist_ok=True)\n",
    "\n",
    "    def save_tables(self):\n",
    "        mes2 = self.mes.replace('/', '_')\n",
    "        if not os.path.exists(f'datasets/tabela_referencia_{mes2}.csv'):\n",
    "            print(\"Consultando tabela de referência...\")\n",
    "            self.tabela_referencia = self.consulta_tabela_referencia()\n",
    "            self.tabela_referencia.to_csv(f'datasets/tabela_referencia_{mes2}.csv', index=False)\n",
    "            print(\"Tabela de referência salva!\")\n",
    "        else:\n",
    "            self.tabela_referencia = pd.read_csv(f'datasets/tabela_referencia_{mes2}.csv')\n",
    "            print(f\"Tabela de referência já existe: tabela_referencia_{mes2}.csv\")\n",
    "\n",
    "        if not os.path.exists(f'datasets/tabela_marcas_{mes2}.csv'):\n",
    "            print(\"Consultando tabela de marcas...\")\n",
    "            self.tabela_marcas = self.consulta_tabela_marcas()\n",
    "            self.tabela_marcas.to_csv(f'datasets/tabela_marcas_{mes2}.csv', index=False)\n",
    "            print(\"Tabela de marcas salva com sucesso!\")\n",
    "        else:\n",
    "            self.tabela_marcas = pd.read_csv(f'datasets/tabela_marcas_{mes2}.csv')\n",
    "            print(f\"Tabela de marcas já existe: tabela_marcas_{mes2}.csv\")\n",
    "\n",
    "        if not os.path.exists(f'datasets/tabela_modelos_{mes2}.csv'):\n",
    "            print('Consultando tabela de modelos...')\n",
    "            self.tabela_modelos = self.consulta_tabela_modelos()\n",
    "            self.tabela_modelos.to_csv(f'datasets/tabela_modelos_{mes2}.csv', index=False)\n",
    "            print('Tabela de modelos salva com sucesso!')\n",
    "        else:\n",
    "            self.tabela_modelos = pd.read_csv(f'datasets/tabela_modelos_{mes2}.csv')\n",
    "            print(f\"Tabela de modelos já existe: tabela_modelos_{mes2}.csv\")\n",
    "\n",
    "        if not os.path.exists(f'datasets/tabela_ano_modelo_{mes2}.csv'):\n",
    "            print(\"Consultando tabela de ano modelo...\")\n",
    "            self.tabela_ano_modelo = self.consulta_tabela_ano_modelo()\n",
    "            self.tabela_ano_modelo.to_csv(f'datasets/tabela_ano_modelo_{mes2}.csv', index=False)\n",
    "            print('Tabela de ano modelo salva com sucesso!')\n",
    "        else:\n",
    "            self.tabela_ano_modelo = pd.read_csv(f'datasets/tabela_ano_modelo_{mes2}.csv')\n",
    "            print(f\"Tabela de ano modelo já existe: tabela_ano_modelo_{mes2}.csv\")\n",
    "\n",
    "    def consulta_tabela_referencia(self):\n",
    "        url = f\"{self._base_url}/ConsultarTabelaDeReferencia\"\n",
    "        req = requests.post(url)\n",
    "        req_text = req.text\n",
    "        req_json = json.loads(req_text)\n",
    "        df = pd.DataFrame(req_json)\n",
    "        df.columns = ['codigo_mes', 'mes']\n",
    "        df['mes'] = df['mes'].str.strip()\n",
    "\n",
    "        return df\n",
    "\n",
    "    def consulta_tabela_marcas(self):\n",
    "        url = f\"{self._base_url}/ConsultarMarcas\"\n",
    "        codigo_tabela_referencia = self.tabela_referencia.query(f\"mes == '{self.mes}'\").loc[:,'codigo_mes'][0]\n",
    "        body = {\"codigoTabelaReferencia\": codigo_tabela_referencia, \"codigoTipoVeiculo\": self.codigo_tipo_veiculo}\n",
    "        req = requests.post(url, data=body)\n",
    "        req_text = req.text\n",
    "        req_json = json.loads(req_text)\n",
    "        df = pd.DataFrame(req_json).rename(columns={'Label': 'marca', 'Value': 'codigo_marca'})\n",
    "        df['mes'] = self.mes\n",
    "        return df\n",
    "\n",
    "    def consulta_tabela_modelos(self):\n",
    "        url = f\"{self._base_url}/ConsultarModelos\"\n",
    "        codigo_tabela_referencia = self.tabela_referencia.query(f\"mes == '{self.mes}'\").loc[:,'codigo_mes'][0]\n",
    "        df = pd.DataFrame()\n",
    "        for codigo_marca in self.tabela_marcas['codigo_marca']:\n",
    "            body = {\"codigoTabelaReferencia\": codigo_tabela_referencia, \"codigoTipoVeiculo\": self.codigo_tipo_veiculo, \"codigoMarca\": codigo_marca}\n",
    "            req = requests.post(url, data=body)\n",
    "            req_text = req.text\n",
    "            req_json = json.loads(req_text)\n",
    "            df_temp = pd.DataFrame(req_json['Modelos']).rename(columns={'Label': 'modelo', 'Value': 'codigo_modelo'})\n",
    "            df_temp['codigo_marca'] = codigo_marca\n",
    "            df = pd.concat([df, df_temp])\n",
    "        df['mes'] = self.mes\n",
    "        return df\n",
    "\n",
    "    def consulta_tabela_ano_modelo(self):\n",
    "        url = f\"{self._base_url}/ConsultarAnoModelo\"\n",
    "        codigo_tabela_referencia = self.tabela_referencia.query(f\"mes == '{self.mes}'\").loc[:,'codigo_mes'][0]\n",
    "        df = pd.DataFrame()\n",
    "        for codigo_marca in self.tabela_marcas['codigo_marca']:\n",
    "            for codigo_modelo in self.tabela_modelos.query(f\"codigo_marca == '{codigo_marca}'\").loc[:,'codigo_modelo']:\n",
    "                body = {\"codigoTabelaReferencia\": codigo_tabela_referencia, \"codigoTipoVeiculo\": self.codigo_tipo_veiculo, \"codigoMarca\": codigo_marca, \"codigoModelo\": codigo_modelo}\n",
    "                req = requests.post(url, data=body)\n",
    "                print(req.status_code)\n",
    "                req_text = req.text\n",
    "                req_json = json.loads(req_text)\n",
    "                df_temp = pd.DataFrame(req_json).rename(columns={'Label': 'combustivel', 'Value': 'ano'})\n",
    "                df_temp['codigo_marca'] = codigo_marca\n",
    "                df_temp['codigo_modelo'] = codigo_modelo\n",
    "                df = pd.concat([df, df_temp])\n",
    "        df['mes'] = self.mes\n",
    "        return df"
   ]
  },
  {
   "cell_type": "code",
   "execution_count": null,
   "metadata": {},
   "outputs": [],
   "source": [
    "url = 'https://veiculos.fipe.org.br/api/veiculos/ConsultarAnoModelo'\n",
    "body = {\"codigoTabelaReferencia\": 288, \"codigoTipoVeiculo\": 1, \"codigoMarca\": 59, \"codigoModelo\": 9564}\n",
    "req = requests.post(url, data=body)"
   ]
  },
  {
   "cell_type": "code",
   "execution_count": null,
   "metadata": {},
   "outputs": [
    {
     "data": {
      "text/plain": [
       "'[{\"Label\":\"32000 Gasolina\",\"Value\":\"32000-1\"},{\"Label\":\"2022 Gasolina\",\"Value\":\"2022-1\"},{\"Label\":\"2021 Gasolina\",\"Value\":\"2021-1\"},{\"Label\":\"2020 Gasolina\",\"Value\":\"2020-1\"}]'"
      ]
     },
     "execution_count": null,
     "metadata": {},
     "output_type": "execute_result"
    }
   ],
   "source": [
    "req.text"
   ]
  },
  {
   "cell_type": "code",
   "execution_count": null,
   "metadata": {},
   "outputs": [],
   "source": [
    "fipe = ConsultaFipe(mes='agosto/2022')"
   ]
  },
  {
   "cell_type": "code",
   "execution_count": null,
   "metadata": {},
   "outputs": [
    {
     "name": "stdout",
     "output_type": "stream",
     "text": [
      "Tabela de referência já existe: tabela_referencia_agosto_2022.csv\n",
      "Tabela de marcas já existe: tabela_marcas_agosto_2022.csv\n",
      "Tabela de modelos já existe: tabela_modelos_agosto_2022.csv\n",
      "Tabela de ano modelo já existe: tabela_ano_modelo_agosto_2022.csv\n"
     ]
    }
   ],
   "source": [
    "fipe.save_tables()"
   ]
  },
  {
   "cell_type": "code",
   "execution_count": null,
   "metadata": {},
   "outputs": [
    {
     "data": {
      "text/html": [
       "<div>\n",
       "<style scoped>\n",
       "    .dataframe tbody tr th:only-of-type {\n",
       "        vertical-align: middle;\n",
       "    }\n",
       "\n",
       "    .dataframe tbody tr th {\n",
       "        vertical-align: top;\n",
       "    }\n",
       "\n",
       "    .dataframe thead th {\n",
       "        text-align: right;\n",
       "    }\n",
       "</style>\n",
       "<table border=\"1\" class=\"dataframe\">\n",
       "  <thead>\n",
       "    <tr style=\"text-align: right;\">\n",
       "      <th></th>\n",
       "      <th>mes</th>\n",
       "    </tr>\n",
       "  </thead>\n",
       "  <tbody>\n",
       "  </tbody>\n",
       "</table>\n",
       "</div>"
      ],
      "text/plain": [
       "Empty DataFrame\n",
       "Columns: [mes]\n",
       "Index: []"
      ]
     },
     "execution_count": null,
     "metadata": {},
     "output_type": "execute_result"
    }
   ],
   "source": [
    "fipe.consulta_tabela_ano_modelo()"
   ]
  },
  {
   "cell_type": "code",
   "execution_count": null,
   "metadata": {},
   "outputs": [
    {
     "data": {
      "text/html": [
       "<div>\n",
       "<style scoped>\n",
       "    .dataframe tbody tr th:only-of-type {\n",
       "        vertical-align: middle;\n",
       "    }\n",
       "\n",
       "    .dataframe tbody tr th {\n",
       "        vertical-align: top;\n",
       "    }\n",
       "\n",
       "    .dataframe thead th {\n",
       "        text-align: right;\n",
       "    }\n",
       "</style>\n",
       "<table border=\"1\" class=\"dataframe\">\n",
       "  <thead>\n",
       "    <tr style=\"text-align: right;\">\n",
       "      <th></th>\n",
       "      <th>codigo_mes</th>\n",
       "      <th>mes</th>\n",
       "    </tr>\n",
       "  </thead>\n",
       "  <tbody>\n",
       "    <tr>\n",
       "      <th>0</th>\n",
       "      <td>288</td>\n",
       "      <td>agosto/2022</td>\n",
       "    </tr>\n",
       "    <tr>\n",
       "      <th>1</th>\n",
       "      <td>287</td>\n",
       "      <td>julho/2022</td>\n",
       "    </tr>\n",
       "    <tr>\n",
       "      <th>2</th>\n",
       "      <td>286</td>\n",
       "      <td>junho/2022</td>\n",
       "    </tr>\n",
       "    <tr>\n",
       "      <th>3</th>\n",
       "      <td>285</td>\n",
       "      <td>maio/2022</td>\n",
       "    </tr>\n",
       "    <tr>\n",
       "      <th>4</th>\n",
       "      <td>284</td>\n",
       "      <td>abril/2022</td>\n",
       "    </tr>\n",
       "  </tbody>\n",
       "</table>\n",
       "</div>"
      ],
      "text/plain": [
       "   codigo_mes          mes\n",
       "0         288  agosto/2022\n",
       "1         287   julho/2022\n",
       "2         286   junho/2022\n",
       "3         285    maio/2022\n",
       "4         284   abril/2022"
      ]
     },
     "execution_count": null,
     "metadata": {},
     "output_type": "execute_result"
    }
   ],
   "source": [
    "fipe.tabela_referencia.head()"
   ]
  },
  {
   "cell_type": "code",
   "execution_count": null,
   "metadata": {},
   "outputs": [
    {
     "data": {
      "text/html": [
       "<div>\n",
       "<style scoped>\n",
       "    .dataframe tbody tr th:only-of-type {\n",
       "        vertical-align: middle;\n",
       "    }\n",
       "\n",
       "    .dataframe tbody tr th {\n",
       "        vertical-align: top;\n",
       "    }\n",
       "\n",
       "    .dataframe thead th {\n",
       "        text-align: right;\n",
       "    }\n",
       "</style>\n",
       "<table border=\"1\" class=\"dataframe\">\n",
       "  <thead>\n",
       "    <tr style=\"text-align: right;\">\n",
       "      <th></th>\n",
       "      <th>marca</th>\n",
       "      <th>codigo_marca</th>\n",
       "      <th>mes</th>\n",
       "    </tr>\n",
       "  </thead>\n",
       "  <tbody>\n",
       "    <tr>\n",
       "      <th>0</th>\n",
       "      <td>Acura</td>\n",
       "      <td>1</td>\n",
       "      <td>agosto/2022</td>\n",
       "    </tr>\n",
       "    <tr>\n",
       "      <th>1</th>\n",
       "      <td>Agrale</td>\n",
       "      <td>2</td>\n",
       "      <td>agosto/2022</td>\n",
       "    </tr>\n",
       "    <tr>\n",
       "      <th>2</th>\n",
       "      <td>Alfa Romeo</td>\n",
       "      <td>3</td>\n",
       "      <td>agosto/2022</td>\n",
       "    </tr>\n",
       "    <tr>\n",
       "      <th>3</th>\n",
       "      <td>AM Gen</td>\n",
       "      <td>4</td>\n",
       "      <td>agosto/2022</td>\n",
       "    </tr>\n",
       "    <tr>\n",
       "      <th>4</th>\n",
       "      <td>Asia Motors</td>\n",
       "      <td>5</td>\n",
       "      <td>agosto/2022</td>\n",
       "    </tr>\n",
       "  </tbody>\n",
       "</table>\n",
       "</div>"
      ],
      "text/plain": [
       "         marca codigo_marca          mes\n",
       "0        Acura            1  agosto/2022\n",
       "1       Agrale            2  agosto/2022\n",
       "2   Alfa Romeo            3  agosto/2022\n",
       "3       AM Gen            4  agosto/2022\n",
       "4  Asia Motors            5  agosto/2022"
      ]
     },
     "execution_count": null,
     "metadata": {},
     "output_type": "execute_result"
    }
   ],
   "source": [
    "fipe.tabela_marcas.head()"
   ]
  },
  {
   "cell_type": "code",
   "execution_count": null,
   "metadata": {},
   "outputs": [
    {
     "data": {
      "text/html": [
       "<div>\n",
       "<style scoped>\n",
       "    .dataframe tbody tr th:only-of-type {\n",
       "        vertical-align: middle;\n",
       "    }\n",
       "\n",
       "    .dataframe tbody tr th {\n",
       "        vertical-align: top;\n",
       "    }\n",
       "\n",
       "    .dataframe thead th {\n",
       "        text-align: right;\n",
       "    }\n",
       "</style>\n",
       "<table border=\"1\" class=\"dataframe\">\n",
       "  <thead>\n",
       "    <tr style=\"text-align: right;\">\n",
       "      <th></th>\n",
       "      <th>marca</th>\n",
       "      <th>codigo_marca</th>\n",
       "      <th>mes</th>\n",
       "    </tr>\n",
       "  </thead>\n",
       "  <tbody>\n",
       "    <tr>\n",
       "      <th>89</th>\n",
       "      <td>VW - VolksWagen</td>\n",
       "      <td>59</td>\n",
       "      <td>agosto/2022</td>\n",
       "    </tr>\n",
       "  </tbody>\n",
       "</table>\n",
       "</div>"
      ],
      "text/plain": [
       "              marca codigo_marca          mes\n",
       "89  VW - VolksWagen           59  agosto/2022"
      ]
     },
     "execution_count": null,
     "metadata": {},
     "output_type": "execute_result"
    }
   ],
   "source": [
    "fipe.tabela_marcas[fipe.tabela_marcas['marca'].str.contains('VW')]"
   ]
  },
  {
   "cell_type": "code",
   "execution_count": null,
   "metadata": {},
   "outputs": [
    {
     "data": {
      "text/html": [
       "<div>\n",
       "<style scoped>\n",
       "    .dataframe tbody tr th:only-of-type {\n",
       "        vertical-align: middle;\n",
       "    }\n",
       "\n",
       "    .dataframe tbody tr th {\n",
       "        vertical-align: top;\n",
       "    }\n",
       "\n",
       "    .dataframe thead th {\n",
       "        text-align: right;\n",
       "    }\n",
       "</style>\n",
       "<table border=\"1\" class=\"dataframe\">\n",
       "  <thead>\n",
       "    <tr style=\"text-align: right;\">\n",
       "      <th></th>\n",
       "      <th>modelo</th>\n",
       "      <th>codigo_modelo</th>\n",
       "      <th>codigo_marca</th>\n",
       "      <th>mes</th>\n",
       "    </tr>\n",
       "  </thead>\n",
       "  <tbody>\n",
       "    <tr>\n",
       "      <th>0</th>\n",
       "      <td>Integra GS 1.8</td>\n",
       "      <td>1</td>\n",
       "      <td>1</td>\n",
       "      <td>agosto/2022</td>\n",
       "    </tr>\n",
       "    <tr>\n",
       "      <th>1</th>\n",
       "      <td>Legend 3.2/3.5</td>\n",
       "      <td>2</td>\n",
       "      <td>1</td>\n",
       "      <td>agosto/2022</td>\n",
       "    </tr>\n",
       "    <tr>\n",
       "      <th>2</th>\n",
       "      <td>NSX 3.0</td>\n",
       "      <td>3</td>\n",
       "      <td>1</td>\n",
       "      <td>agosto/2022</td>\n",
       "    </tr>\n",
       "    <tr>\n",
       "      <th>0</th>\n",
       "      <td>MARRUÁ 2.8 12V 132cv TDI Diesel</td>\n",
       "      <td>4</td>\n",
       "      <td>2</td>\n",
       "      <td>agosto/2022</td>\n",
       "    </tr>\n",
       "    <tr>\n",
       "      <th>1</th>\n",
       "      <td>MARRUÁ AM 100 2.8  CS TDI Diesel</td>\n",
       "      <td>4564</td>\n",
       "      <td>2</td>\n",
       "      <td>agosto/2022</td>\n",
       "    </tr>\n",
       "  </tbody>\n",
       "</table>\n",
       "</div>"
      ],
      "text/plain": [
       "                             modelo  codigo_modelo codigo_marca          mes\n",
       "0                    Integra GS 1.8              1            1  agosto/2022\n",
       "1                    Legend 3.2/3.5              2            1  agosto/2022\n",
       "2                           NSX 3.0              3            1  agosto/2022\n",
       "0   MARRUÁ 2.8 12V 132cv TDI Diesel              4            2  agosto/2022\n",
       "1  MARRUÁ AM 100 2.8  CS TDI Diesel           4564            2  agosto/2022"
      ]
     },
     "execution_count": null,
     "metadata": {},
     "output_type": "execute_result"
    }
   ],
   "source": [
    "fipe.tabela_modelos.head()"
   ]
  },
  {
   "cell_type": "code",
   "execution_count": null,
   "metadata": {},
   "outputs": [],
   "source": [
    "#| hide\n",
    "import nbdev\n",
    "nbdev.nbdev_export()"
   ]
  }
 ],
 "metadata": {
  "kernelspec": {
   "display_name": "Python 3.9.12 ('fipy')",
   "language": "python",
   "name": "python3"
  }
 },
 "nbformat": 4,
 "nbformat_minor": 4
}
